{
 "cells": [
  {
   "cell_type": "markdown",
   "metadata": {},
   "source": [
    "# Visualization the Relation\n",
    "- 11/26/20 Visualization the relations using plotly. This notebook is based on main_kch_relation_extraction-vis"
   ]
  },
  {
   "cell_type": "code",
   "execution_count": null,
   "metadata": {},
   "outputs": [],
   "source": [
    "%matplotlib inline\n",
    "%load_ext autoreload\n",
    "%autoreload 2\n",
    "\n",
    "from tqdm import tqdm_notebook\n",
    "import matplotlib.pyplot as plt\n",
    "import pandas as pd\n",
    "import numpy as np\n",
    "from covid.models.relation.extraction import RelationExtractor\n",
    "\n",
    "import ast\n",
    "import altair as alt\n",
    "import pandas as pd\n",
    "import numpy as np\n",
    "import yaml\n",
    "\n",
    "alt.data_transformers.disable_max_rows()\n"
   ]
  },
  {
   "cell_type": "markdown",
   "metadata": {},
   "source": [
    "# Load the yml class-subclass-keyword data structure \n",
    "- 11/29/20 This is for Panayoitis to create the UI search bar for users\n",
    "- the data structure will be something like this:\n",
    "    - kidney_disease\n",
    "        - keyword1\n",
    "        - keyword2\n",
    "        - etc\n",
    "    - risk_factor\n",
    "        - keyword1\n",
    "        - keyword2\n",
    "        - etc\n",
    "    - treatment_and_vaccine\n",
    "        - keyword1\n",
    "        - keyword2\n",
    "        - etc"
   ]
  },
  {
   "cell_type": "code",
   "execution_count": null,
   "metadata": {},
   "outputs": [],
   "source": [
    "data_path = '../covid/models/paperclassifier/Davids_interest_meshed.yaml'\n",
    "with open(data_path) as f:\n",
    "    data_yml = yaml.load(f, Loader=yaml.FullLoader)\n",
    "    \n",
    "# reorrganize the information\n",
    "data_class_subclass = {}\n",
    "classes = ['kidney_disease', 'risk_factor', 'treatment_and_vaccine']\n",
    "for c in classes:\n",
    "    data_class_subclass[c] = data_yml[c]['%s_common_name' %c]['kw']\n",
    "\n",
    "data_class_subclass"
   ]
  },
  {
   "cell_type": "markdown",
   "metadata": {},
   "source": [
    "# Read the relation data file"
   ]
  },
  {
   "cell_type": "code",
   "execution_count": null,
   "metadata": {},
   "outputs": [],
   "source": [
    "# load the data\n",
    "df_r = pd.read_csv('../data/paperclassifier/classified_merged_covid_relation.csv')\n",
    "df_r.head(3)"
   ]
  },
  {
   "cell_type": "markdown",
   "metadata": {},
   "source": [
    "## Visualization\n",
    "\n",
    "As of 11/26/20, I am planning to generate multiple plots for user to visually understand what the relation data table represents. Here are couple of figure to be plotted\n",
    "\n",
    "1. (Not a plot) Filter the data\n",
    "    - Select meaningful relationship; filter the rest; may choose only a few interpretable relationship\n",
    "        - \"has part\" = \"part of\" = \"coronavirus is related to ...\"\n",
    "        - (10/27/20 ABORT) \"said to be the same as\" = \"instance of\" = \"corvonavirus is ...\"\n",
    "    - Choose the paper that is published after covid breakout, i.e., 2020 Feb\n",
    "2. Plot x along time by month (since covid breakout). X can be\n",
    "    - the number of a relationship (e.g., part of) with an entity (e.g., RNA)\n",
    "3. Plot the summary count of different relationships with respect to the entity. \n"
   ]
  },
  {
   "cell_type": "code",
   "execution_count": null,
   "metadata": {},
   "outputs": [],
   "source": [
    "from covid.models.relation import vis as rvis\n",
    "import altair as alt\n",
    "import plotly.express as px\n"
   ]
  },
  {
   "cell_type": "markdown",
   "metadata": {},
   "source": [
    "# Preprocess df\n",
    "- This is the overall preprocessing step"
   ]
  },
  {
   "cell_type": "code",
   "execution_count": null,
   "metadata": {},
   "outputs": [],
   "source": [
    "# data preparation\n",
    "df_new = rvis.preprocess_df(df_r)"
   ]
  },
  {
   "cell_type": "markdown",
   "metadata": {},
   "source": [
    "## Overview plot\n",
    "Plot the number of identified relationship along time\n",
    "\n"
   ]
  },
  {
   "cell_type": "code",
   "execution_count": null,
   "metadata": {},
   "outputs": [],
   "source": [
    "# =======================================================\n",
    "# Plotly\n",
    "# =======================================================\n",
    "fig = px.scatter(df_new, x='publish_time', y='probability', hover_name=df_new['keyword']\n",
    "                )\n",
    "fig.update_layout(\n",
    "    title='Strength of discovered relationship along paper publication month',\n",
    "    xaxis_title=\"Publish Time\",\n",
    "    yaxis_title=\"Probability\",\n",
    "    font=dict(\n",
    "        family=\"Courier New, monospace\",\n",
    "        size=18,\n",
    "    )\n",
    ")\n",
    "fig.show()"
   ]
  },
  {
   "cell_type": "markdown",
   "metadata": {},
   "source": [
    "## keyword-specific plot\n",
    "- Choose a particular keyword\n",
    "- Each relation will have a line plot\n",
    "- Aggregated probability per month"
   ]
  },
  {
   "cell_type": "code",
   "execution_count": null,
   "metadata": {},
   "outputs": [],
   "source": [
    "# =======================================================\n",
    "# Data Preparation \n",
    "# =======================================================\n",
    "# Define what keyword we are interested to see the trend\n",
    "kw = 'fever'\n",
    "relations = ['is related to']\n",
    "df_grps = rvis.preproces_for_kwspecific_plot(df_new, kw=kw)\n",
    "\n",
    "# =======================================================\n",
    "# Plotly\n",
    "# =======================================================\n",
    "import plotly.graph_objects as go\n",
    "\n",
    "fig = go.Figure(data=go.Scatter(\n",
    "        x=df_grps['publish_month'],\n",
    "        y=df_grps['proba_mean'],\n",
    "        error_y=dict(\n",
    "            type='data', # value of error bar given in data coordinates\n",
    "            array=df_grps['proba_stderr'],\n",
    "            visible=True)\n",
    "    ))\n",
    "fig.update_layout(\n",
    "    yaxis=dict(range=[0, 1]),\n",
    "    title=\"coronavirus - '%s' relationship\" %kw,\n",
    "    xaxis_title=\"Month\",\n",
    "    yaxis_title=\"Strength\",\n",
    "    font=dict(\n",
    "        family=\"Courier New, monospace\",\n",
    "        size=18,\n",
    "    )\n",
    ")\n",
    "fig.show()"
   ]
  },
  {
   "cell_type": "markdown",
   "metadata": {},
   "source": [
    "## Get top keywords for each relationship "
   ]
  },
  {
   "cell_type": "code",
   "execution_count": null,
   "metadata": {},
   "outputs": [],
   "source": [
    "# relations = ['is related to', 'is']\n",
    "\n",
    "# # loop\n",
    "# for r in relations:\n",
    "#     df_sg = df_new.loc[df_new['relation'] == r]\n",
    "#     df_sg = df_sg.groupby('keyword')['probability'].mean().sort_values(ascending=False).to_frame()\n",
    "#     df_sg.columns = ['strength']\n",
    "    \n",
    "#     # print\n",
    "#     print('The relationship is:', r)\n",
    "#     print(df_sg.head(10))\n",
    "#     print()\n"
   ]
  },
  {
   "cell_type": "markdown",
   "metadata": {},
   "source": [
    "## Overview plot for several interesting keyword relationship\n",
    "- Look at the strength of the relationships along time\n",
    "- https://altair-viz.github.io/gallery/natural_disasters.html"
   ]
  },
  {
   "cell_type": "code",
   "execution_count": null,
   "metadata": {},
   "outputs": [],
   "source": [
    "# =======================================================\n",
    "# Data Preparation \n",
    "# =======================================================\n",
    "kw_interest = ['sore throat', 'fatigue', 'fever', 'upper respiratory infection', 'lung capacity',\n",
    "              'hospitalization', 'dry cough', 'sneezing', 'death', 'shortness of breath']\n",
    "df_new_p = rvis.preprocess_for_multiple_kw_visualization(df_new, kw_interest=kw_interest)\n",
    "\n",
    "# =======================================================\n",
    "# Plotly plot\n",
    "# =======================================================\n",
    "import plotly.express as px\n",
    "df = px.data.iris()\n",
    "fig = px.scatter(df_new_p, x=\"publish_time\", y=\"probability\", color=\"keyword\",\n",
    "                 size='probability')\n",
    "fig.update_layout(\n",
    "    yaxis=dict(range=[0, 1.1]),\n",
    "    title=\"coronavirus - keyword relationship\",\n",
    "    xaxis_title=\"Publish Time\",\n",
    "    yaxis_title=\"Strength\",\n",
    "    font=dict(\n",
    "        family=\"Courier New, monospace\",\n",
    "        size=18,\n",
    "    )\n",
    ")\n",
    "fig.show()"
   ]
  },
  {
   "cell_type": "code",
   "execution_count": null,
   "metadata": {},
   "outputs": [],
   "source": []
  }
 ],
 "metadata": {
  "kernelspec": {
   "display_name": "Python 3",
   "language": "python",
   "name": "python3"
  },
  "language_info": {
   "codemirror_mode": {
    "name": "ipython",
    "version": 3
   },
   "file_extension": ".py",
   "mimetype": "text/x-python",
   "name": "python",
   "nbconvert_exporter": "python",
   "pygments_lexer": "ipython3",
   "version": "3.6.10"
  }
 },
 "nbformat": 4,
 "nbformat_minor": 4
}
