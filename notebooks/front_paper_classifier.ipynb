{
 "cells": [
  {
   "cell_type": "code",
   "execution_count": 7,
   "metadata": {},
   "outputs": [],
   "source": [
    "from covid.models.paperclassifier.frontpaperclassifier import FrontPaperClassifier"
   ]
  },
  {
   "cell_type": "code",
   "execution_count": 6,
   "metadata": {},
   "outputs": [
    {
     "name": "stderr",
     "output_type": "stream",
     "text": [
      "[nltk_data] Downloading package wordnet to /Users/vasilis/nltk_data...\n",
      "[nltk_data]   Package wordnet is already up-to-date!\n"
     ]
    }
   ],
   "source": [
    "fpc = FrontPaperClassifier(km_path='../covid/models/paperclassifier/interest.yaml')"
   ]
  },
  {
   "cell_type": "markdown",
   "metadata": {},
   "source": [
    "## Attributes"
   ]
  },
  {
   "cell_type": "code",
   "execution_count": 8,
   "metadata": {},
   "outputs": [
    {
     "data": {
      "text/plain": [
       "{'risk_factor': {'gender': ['manly',\n",
       "   'manlike',\n",
       "   'manful',\n",
       "   'virile',\n",
       "   'male',\n",
       "   'male_person',\n",
       "   'distaff',\n",
       "   'female',\n",
       "   'female_person',\n",
       "   'sexuality',\n",
       "   'sex',\n",
       "   'gender',\n",
       "   'grammatical_gender'],\n",
       "  'age': ['age'],\n",
       "  'disease_comorbidity': ['disease comorbidity', 'comorbidity'],\n",
       "  'smoking': ['smoking', 'smoke', 'tobacco'],\n",
       "  'exercise': ['exercise', 'exercising', 'workout'],\n",
       "  'occupation': ['occupation', 'employment status'],\n",
       "  'weather': ['weather', 'temperature']},\n",
       " 'diagnostic': {'imaging': []},\n",
       " 'treatment_and_vaccine': {'treatment': []},\n",
       " 'outcome': {'death_rate': []}}"
      ]
     },
     "execution_count": 8,
     "metadata": {},
     "output_type": "execute_result"
    }
   ],
   "source": [
    "fpc.km"
   ]
  },
  {
   "cell_type": "code",
   "execution_count": 9,
   "metadata": {},
   "outputs": [
    {
     "data": {
      "text/plain": [
       "['risk_factor', 'diagnostic', 'treatment_and_vaccine', 'outcome']"
      ]
     },
     "execution_count": 9,
     "metadata": {},
     "output_type": "execute_result"
    }
   ],
   "source": [
    "fpc.classes"
   ]
  },
  {
   "cell_type": "code",
   "execution_count": 10,
   "metadata": {
    "scrolled": true
   },
   "outputs": [
    {
     "data": {
      "text/html": [
       "<div>\n",
       "<style scoped>\n",
       "    .dataframe tbody tr th:only-of-type {\n",
       "        vertical-align: middle;\n",
       "    }\n",
       "\n",
       "    .dataframe tbody tr th {\n",
       "        vertical-align: top;\n",
       "    }\n",
       "\n",
       "    .dataframe thead th {\n",
       "        text-align: right;\n",
       "    }\n",
       "</style>\n",
       "<table border=\"1\" class=\"dataframe\">\n",
       "  <thead>\n",
       "    <tr style=\"text-align: right;\">\n",
       "      <th></th>\n",
       "      <th></th>\n",
       "      <th>keywords</th>\n",
       "    </tr>\n",
       "    <tr>\n",
       "      <th>class</th>\n",
       "      <th>subclass</th>\n",
       "      <th></th>\n",
       "    </tr>\n",
       "  </thead>\n",
       "  <tbody>\n",
       "    <tr>\n",
       "      <th rowspan=\"7\" valign=\"top\">risk_factor</th>\n",
       "      <th>gender</th>\n",
       "      <td>manly manlike manful virile male male_person d...</td>\n",
       "    </tr>\n",
       "    <tr>\n",
       "      <th>age</th>\n",
       "      <td>age</td>\n",
       "    </tr>\n",
       "    <tr>\n",
       "      <th>disease_comorbidity</th>\n",
       "      <td>disease comorbidity comorbidity</td>\n",
       "    </tr>\n",
       "    <tr>\n",
       "      <th>smoking</th>\n",
       "      <td>smoking smoke tobacco</td>\n",
       "    </tr>\n",
       "    <tr>\n",
       "      <th>exercise</th>\n",
       "      <td>exercise exercising workout</td>\n",
       "    </tr>\n",
       "    <tr>\n",
       "      <th>occupation</th>\n",
       "      <td>occupation employment status</td>\n",
       "    </tr>\n",
       "    <tr>\n",
       "      <th>weather</th>\n",
       "      <td>weather temperature</td>\n",
       "    </tr>\n",
       "    <tr>\n",
       "      <th>diagnostic</th>\n",
       "      <th>imaging</th>\n",
       "      <td></td>\n",
       "    </tr>\n",
       "    <tr>\n",
       "      <th>treatment_and_vaccine</th>\n",
       "      <th>treatment</th>\n",
       "      <td></td>\n",
       "    </tr>\n",
       "    <tr>\n",
       "      <th>outcome</th>\n",
       "      <th>death_rate</th>\n",
       "      <td></td>\n",
       "    </tr>\n",
       "  </tbody>\n",
       "</table>\n",
       "</div>"
      ],
      "text/plain": [
       "                                                                                    keywords\n",
       "class                 subclass                                                              \n",
       "risk_factor           gender               manly manlike manful virile male male_person d...\n",
       "                      age                                                                age\n",
       "                      disease_comorbidity                    disease comorbidity comorbidity\n",
       "                      smoking                                          smoking smoke tobacco\n",
       "                      exercise                                   exercise exercising workout\n",
       "                      occupation                                occupation employment status\n",
       "                      weather                                            weather temperature\n",
       "diagnostic            imaging                                                               \n",
       "treatment_and_vaccine treatment                                                             \n",
       "outcome               death_rate                                                            "
      ]
     },
     "execution_count": 10,
     "metadata": {},
     "output_type": "execute_result"
    }
   ],
   "source": [
    "fpc.df"
   ]
  },
  {
   "cell_type": "markdown",
   "metadata": {},
   "source": [
    "## Class Methods"
   ]
  },
  {
   "cell_type": "code",
   "execution_count": 11,
   "metadata": {},
   "outputs": [
    {
     "data": {
      "text/plain": [
       "{'gender': ['manly',\n",
       "  'manlike',\n",
       "  'manful',\n",
       "  'virile',\n",
       "  'male',\n",
       "  'male_person',\n",
       "  'distaff',\n",
       "  'female',\n",
       "  'female_person',\n",
       "  'sexuality',\n",
       "  'sex',\n",
       "  'gender',\n",
       "  'grammatical_gender'],\n",
       " 'age': ['age'],\n",
       " 'disease_comorbidity': ['disease comorbidity', 'comorbidity'],\n",
       " 'smoking': ['smoking', 'smoke', 'tobacco'],\n",
       " 'exercise': ['exercise', 'exercising', 'workout'],\n",
       " 'occupation': ['occupation', 'employment status'],\n",
       " 'weather': ['weather', 'temperature']}"
      ]
     },
     "execution_count": 11,
     "metadata": {},
     "output_type": "execute_result"
    }
   ],
   "source": [
    "fpc.get_class_dict('risk_factor')"
   ]
  },
  {
   "cell_type": "code",
   "execution_count": 12,
   "metadata": {},
   "outputs": [
    {
     "data": {
      "text/plain": [
       "['gender',\n",
       " 'age',\n",
       " 'disease_comorbidity',\n",
       " 'smoking',\n",
       " 'exercise',\n",
       " 'occupation',\n",
       " 'weather']"
      ]
     },
     "execution_count": 12,
     "metadata": {},
     "output_type": "execute_result"
    }
   ],
   "source": [
    "fpc.get_subclasses('risk_factor')"
   ]
  },
  {
   "cell_type": "code",
   "execution_count": 13,
   "metadata": {},
   "outputs": [
    {
     "data": {
      "text/plain": [
       "'risk_factor'"
      ]
     },
     "execution_count": 13,
     "metadata": {},
     "output_type": "execute_result"
    }
   ],
   "source": [
    "fpc.get_parent_class('gender')"
   ]
  },
  {
   "cell_type": "code",
   "execution_count": 14,
   "metadata": {},
   "outputs": [
    {
     "data": {
      "text/plain": [
       "['manly',\n",
       " 'manlike',\n",
       " 'manful',\n",
       " 'virile',\n",
       " 'male',\n",
       " 'male_person',\n",
       " 'distaff',\n",
       " 'female',\n",
       " 'female_person',\n",
       " 'sexuality',\n",
       " 'sex',\n",
       " 'gender',\n",
       " 'grammatical_gender']"
      ]
     },
     "execution_count": 14,
     "metadata": {},
     "output_type": "execute_result"
    }
   ],
   "source": [
    "fpc.get_keywords('gender')"
   ]
  },
  {
   "cell_type": "code",
   "execution_count": null,
   "metadata": {},
   "outputs": [],
   "source": []
  }
 ],
 "metadata": {
  "kernelspec": {
   "display_name": "Python 3",
   "language": "python",
   "name": "python3"
  },
  "language_info": {
   "codemirror_mode": {
    "name": "ipython",
    "version": 3
   },
   "file_extension": ".py",
   "mimetype": "text/x-python",
   "name": "python",
   "nbconvert_exporter": "python",
   "pygments_lexer": "ipython3",
   "version": "3.7.4"
  }
 },
 "nbformat": 4,
 "nbformat_minor": 4
}
