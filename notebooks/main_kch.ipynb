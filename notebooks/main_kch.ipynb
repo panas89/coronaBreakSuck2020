{
 "cells": [
  {
   "cell_type": "code",
   "execution_count": 5,
   "metadata": {},
   "outputs": [
    {
     "name": "stdout",
     "output_type": "stream",
     "text": [
      "The autoreload extension is already loaded. To reload it, use:\n",
      "  %reload_ext autoreload\n"
     ]
    }
   ],
   "source": [
    "%matplotlib inline\n",
    "%load_ext autoreload\n",
    "%autoreload 2\n",
    "\n",
    "import numpy as np\n",
    "import pandas as pd"
   ]
  },
  {
   "cell_type": "code",
   "execution_count": 6,
   "metadata": {},
   "outputs": [],
   "source": [
    "from covid.models.paperclassifier.paperclassifier import PaperClassifier"
   ]
  },
  {
   "cell_type": "code",
   "execution_count": 8,
   "metadata": {},
   "outputs": [
    {
     "name": "stderr",
     "output_type": "stream",
     "text": [
      "[nltk_data] Downloading package wordnet to\n",
      "[nltk_data]     /home/johnny5550822/nltk_data...\n",
      "[nltk_data]   Package wordnet is already up-to-date!\n"
     ]
    }
   ],
   "source": [
    "pc = PaperClassifier(km_path='../covid/models/paperclassifier/interest.yaml')"
   ]
  },
  {
   "cell_type": "code",
   "execution_count": 9,
   "metadata": {},
   "outputs": [
    {
     "data": {
      "text/plain": [
       "{'disease_name': {'common_name': ['covid',\n",
       "   'sars-cov-2',\n",
       "   'covid19',\n",
       "   'coronavirus'],\n",
       "  'relate_to': ['respiratory syncytial virus',\n",
       "   'lipopolysaccharide',\n",
       "   'rubella virus infection',\n",
       "   'human immunodeficiency virus',\n",
       "   'Zika Virus Infection',\n",
       "   'Ebola and Zika virus infection',\n",
       "   'influenza virus A',\n",
       "   'Thrombocytopenia Syndrome Virus Infection',\n",
       "   'respiratory syncitial virus',\n",
       "   'herpes simplex virus type 1',\n",
       "   'human immunodeficiency virus type 1',\n",
       "   'porcine reproductive and respiratory syndrome virus',\n",
       "   'hepatitis A virus',\n",
       "   'parainfluenza virus 3',\n",
       "   'neurotropic coronavirus virus',\n",
       "   'Human T-cell leukemia virus type 1',\n",
       "   'Human T-cell leukemia virus type']},\n",
       " 'risk_factor': {'gender': ['manful',\n",
       "   'manlike',\n",
       "   'virile',\n",
       "   'male',\n",
       "   'male_person',\n",
       "   'manly',\n",
       "   'female_person',\n",
       "   'distaff',\n",
       "   'female',\n",
       "   'sex',\n",
       "   'sexuality',\n",
       "   'grammatical_gender',\n",
       "   'gender'],\n",
       "  'age': ['age'],\n",
       "  'disease_comorbidity': ['disease comorbidity', 'comorbidity'],\n",
       "  'smoking': ['smoking', 'smoke', 'tobacco'],\n",
       "  'exercise': ['exercise', 'exercising', 'workout'],\n",
       "  'occupation': ['occupation', 'employment status'],\n",
       "  'weather': ['weather', 'temperature']},\n",
       " 'diagnostic': {'symptoms': ['fever',\n",
       "   'dry cough',\n",
       "   'lose of smell',\n",
       "   'difficult to breath',\n",
       "   'hard to breath',\n",
       "   'shortness of breath',\n",
       "   'headaches',\n",
       "   'aches and pains',\n",
       "   'sore throat',\n",
       "   'fatigue',\n",
       "   'diarrhea',\n",
       "   'running nose',\n",
       "   'sneezing',\n",
       "   'cough'],\n",
       "  'imaging_diagnosis': ['ct', 'ct imaging'],\n",
       "  'clinical_diagnosis': ['respiratory tract infection',\n",
       "   'virus infection',\n",
       "   'acute respiratory distress syndrome',\n",
       "   'acute respiratory failure',\n",
       "   'influenza virus infection',\n",
       "   'irritation of the respiratory tract',\n",
       "   'porcine reproductive and respiratory syndrome',\n",
       "   'upper respiratory infection',\n",
       "   'gastrointestinal viral infection',\n",
       "   'H1N1 viral infection',\n",
       "   'H5N1 viral infection',\n",
       "   'gastrointestinal viral infection',\n",
       "   'reproductive and respiratory syndrome virus infection',\n",
       "   'acquired immunodeficiency syndrome',\n",
       "   'nosocomial viral respiratory infections',\n",
       "   'coronavirus OC43 infection',\n",
       "   'H3N2 virus infection',\n",
       "   'long QT syndrome',\n",
       "   'liver cell necrosis',\n",
       "   'latent TB infection',\n",
       "   'Pulmonary Coronavirus Infection',\n",
       "   'Leukocyte adhesion deficiency II syndrome',\n",
       "   'infection of the central nervous system',\n",
       "   'infection of the pulmonary parenchyma'],\n",
       "  'genetic_diagnosis': ['dsRNA', 'dsDNA', 'RNA', 'DNA']},\n",
       " 'treatment_and_vaccine': {'treatment': ['discourse',\n",
       "   'treatment',\n",
       "   'discussion',\n",
       "   'handling',\n",
       "   'intervention',\n",
       "   'vaccine',\n",
       "   'vaccinum']},\n",
       " 'outcome': {'death_rate': []}}"
      ]
     },
     "execution_count": 9,
     "metadata": {},
     "output_type": "execute_result"
    }
   ],
   "source": [
    "km = pc.get_km()\n",
    "km"
   ]
  },
  {
   "cell_type": "code",
   "execution_count": null,
   "metadata": {},
   "outputs": [],
   "source": []
  },
  {
   "cell_type": "code",
   "execution_count": null,
   "metadata": {},
   "outputs": [],
   "source": []
  },
  {
   "cell_type": "code",
   "execution_count": null,
   "metadata": {},
   "outputs": [],
   "source": []
  },
  {
   "cell_type": "code",
   "execution_count": null,
   "metadata": {},
   "outputs": [],
   "source": []
  },
  {
   "cell_type": "code",
   "execution_count": null,
   "metadata": {},
   "outputs": [],
   "source": [
    "\n"
   ]
  }
 ],
 "metadata": {
  "kernelspec": {
   "display_name": "Python [conda env:python37] *",
   "language": "python",
   "name": "conda-env-python37-py"
  },
  "language_info": {
   "codemirror_mode": {
    "name": "ipython",
    "version": 3
   },
   "file_extension": ".py",
   "mimetype": "text/x-python",
   "name": "python",
   "nbconvert_exporter": "python",
   "pygments_lexer": "ipython3",
   "version": "3.7.7"
  }
 },
 "nbformat": 4,
 "nbformat_minor": 4
}
