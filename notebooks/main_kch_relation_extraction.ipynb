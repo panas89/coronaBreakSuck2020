{
 "cells": [
  {
   "cell_type": "markdown",
   "metadata": {},
   "source": [
    "# Information Extraction\n",
    "- 06/28/30 Extract the entity relations related to covid-19\n",
    "    - Whether there is relationship or not\n",
    "    - If so, what kind, and how likely\n",
    "    - Use the openNRE to do so\n",
    "\n",
    "- Examples: \n",
    "    - Risk Factors\n",
    "        - “The two-way interaction between COVID-19 and diabetes mellitus sets up a vicious cycle wherein COVID-19 leads to worsening of dysglycemia and diabetes mellitus”\n",
    "            1.\tCovid-19 has relationship with diabetes. \n",
    "            2.\tCovid-19 worsen diabetes\n",
    "            3.\tDoes not indicate diabetes is a risk factor; but indicate covid-19 impact diabetes. \n",
    "    - Efficacy of therapeutics and interventions\n",
    "        - i. “Increasing eosinophils may be an indicator of COVID-19 improvement. The COVID-19 patients may benefit from sustained lopinavir use.”\n",
    "            1.\tlopinavir may be efficient for treating covid-19.\n",
    "            2.\tOpenNRE: “eosinophils” has part (P527)  “covid-19”"
   ]
  },
  {
   "cell_type": "code",
   "execution_count": 61,
   "metadata": {},
   "outputs": [
    {
     "name": "stdout",
     "output_type": "stream",
     "text": [
      "The autoreload extension is already loaded. To reload it, use:\n",
      "  %reload_ext autoreload\n"
     ]
    }
   ],
   "source": [
    "%matplotlib inline\n",
    "%load_ext autoreload\n",
    "%autoreload 2\n",
    "\n",
    "from covid.models.relation.extraction import RelationExtractor\n",
    "from tqdm import tqdm_notebook\n",
    "import matplotlib.pyplot as plt\n",
    "import pandas as pd\n",
    "import numpy as np"
   ]
  },
  {
   "cell_type": "markdown",
   "metadata": {},
   "source": [
    "# Sample Extraction\n",
    "- There are two model available: wiki80_bert_softmax or wiki80_cnn_softmax. The first one is better. The model is from the supervised relation extraction: http://opennre.thunlp.ai/#/sent_re. \n",
    "- We need to add an additiona NER classifier to classify interesting term relationship (in addition to our defined one)\n",
    "- Among all the relations, only the \"has part (P527)\" is useful. "
   ]
  },
  {
   "cell_type": "code",
   "execution_count": 43,
   "metadata": {},
   "outputs": [],
   "source": [
    "# initiate the extractor\n",
    "rextractor = RelationExtractor()"
   ]
  },
  {
   "cell_type": "code",
   "execution_count": 44,
   "metadata": {},
   "outputs": [
    {
     "name": "stdout",
     "output_type": "stream",
     "text": [
      "('eosinophils', 'covid-19', ('has part', 0.3858766555786133))\n"
     ]
    }
   ],
   "source": [
    "# extract\n",
    "text = 'Increasing eosinophils may be an indicator of COVID-19 improvement. The COVID-19 patients may benefit from sustained lopinavir use.'\n",
    "relation = rextractor.extract(text, 'eosinophils', 'COVID-19')\n",
    "print(relation)"
   ]
  },
  {
   "cell_type": "markdown",
   "metadata": {},
   "source": [
    "# Paper relationship extraction\n",
    "- We can utilize the interest.yml to accelerate the search and relationship extraction\n",
    "- We will focus on the relationship of covid to a particular keyword"
   ]
  },
  {
   "cell_type": "markdown",
   "metadata": {},
   "source": [
    "### Load the paper-classified information"
   ]
  },
  {
   "cell_type": "code",
   "execution_count": 47,
   "metadata": {
    "scrolled": true
   },
   "outputs": [
    {
     "data": {
      "text/html": [
       "<div>\n",
       "<style scoped>\n",
       "    .dataframe tbody tr th:only-of-type {\n",
       "        vertical-align: middle;\n",
       "    }\n",
       "\n",
       "    .dataframe tbody tr th {\n",
       "        vertical-align: top;\n",
       "    }\n",
       "\n",
       "    .dataframe thead th {\n",
       "        text-align: right;\n",
       "    }\n",
       "</style>\n",
       "<table border=\"1\" class=\"dataframe\">\n",
       "  <thead>\n",
       "    <tr style=\"text-align: right;\">\n",
       "      <th></th>\n",
       "      <th>sha</th>\n",
       "      <th>title</th>\n",
       "      <th>abstract</th>\n",
       "      <th>publish_time</th>\n",
       "      <th>affiliations</th>\n",
       "      <th>location</th>\n",
       "      <th>text</th>\n",
       "      <th>risk_factor</th>\n",
       "      <th>diagnostic</th>\n",
       "      <th>treatment_and_vaccine</th>\n",
       "      <th>...</th>\n",
       "      <th>imaging_diagnosis</th>\n",
       "      <th>clinical_diagnosis</th>\n",
       "      <th>genetic_diagnosis</th>\n",
       "      <th>treatment_and_vaccine_common_name</th>\n",
       "      <th>treatment</th>\n",
       "      <th>outcome_common_name</th>\n",
       "      <th>clinical_outcome</th>\n",
       "      <th>keywords</th>\n",
       "      <th>affiliations_country</th>\n",
       "      <th>location_country</th>\n",
       "    </tr>\n",
       "  </thead>\n",
       "  <tbody>\n",
       "    <tr>\n",
       "      <th>0</th>\n",
       "      <td>0104f6ceccf92ae8567a0102f89cbb976969a774</td>\n",
       "      <td>Association of HLA class I with severe acute r...</td>\n",
       "      <td>BACKGROUND: The human leukocyte antigen (HLA) ...</td>\n",
       "      <td>2003-09-12</td>\n",
       "      <td>NaN</td>\n",
       "      <td>NaN</td>\n",
       "      <td>NaN</td>\n",
       "      <td>0</td>\n",
       "      <td>1</td>\n",
       "      <td>0</td>\n",
       "      <td>...</td>\n",
       "      <td>0</td>\n",
       "      <td>0</td>\n",
       "      <td>0</td>\n",
       "      <td>0</td>\n",
       "      <td>0</td>\n",
       "      <td>0</td>\n",
       "      <td>0</td>\n",
       "      <td>fever</td>\n",
       "      <td>NaN</td>\n",
       "      <td>NaN</td>\n",
       "    </tr>\n",
       "    <tr>\n",
       "      <th>1</th>\n",
       "      <td>5b68a553a7cbbea13472721cd1ad617d42b40c26</td>\n",
       "      <td>A double epidemic model for the SARS propagation</td>\n",
       "      <td>BACKGROUND: An epidemic of a Severe Acute Resp...</td>\n",
       "      <td>2003-09-10</td>\n",
       "      <td>NaN</td>\n",
       "      <td>NaN</td>\n",
       "      <td>NaN</td>\n",
       "      <td>1</td>\n",
       "      <td>0</td>\n",
       "      <td>0</td>\n",
       "      <td>...</td>\n",
       "      <td>0</td>\n",
       "      <td>0</td>\n",
       "      <td>0</td>\n",
       "      <td>0</td>\n",
       "      <td>0</td>\n",
       "      <td>0</td>\n",
       "      <td>0</td>\n",
       "      <td>weather</td>\n",
       "      <td>NaN</td>\n",
       "      <td>NaN</td>\n",
       "    </tr>\n",
       "    <tr>\n",
       "      <th>2</th>\n",
       "      <td>3ed670f60a7be2e3e2a991ea8af1fdd5fa5e2b2c</td>\n",
       "      <td>Cloaked similarity between HIV-1 and SARS-CoV ...</td>\n",
       "      <td>BACKGROUND: Severe acute respiratory syndrome ...</td>\n",
       "      <td>2003-09-21</td>\n",
       "      <td>NaN</td>\n",
       "      <td>NaN</td>\n",
       "      <td>NaN</td>\n",
       "      <td>0</td>\n",
       "      <td>0</td>\n",
       "      <td>0</td>\n",
       "      <td>...</td>\n",
       "      <td>0</td>\n",
       "      <td>0</td>\n",
       "      <td>0</td>\n",
       "      <td>0</td>\n",
       "      <td>0</td>\n",
       "      <td>0</td>\n",
       "      <td>0</td>\n",
       "      <td>0</td>\n",
       "      <td>NaN</td>\n",
       "      <td>NaN</td>\n",
       "    </tr>\n",
       "    <tr>\n",
       "      <th>3</th>\n",
       "      <td>59ffca26c9d1f881e4e37e7c5af626d72d858dc4</td>\n",
       "      <td>Relationship of SARS-CoV to other pathogenic R...</td>\n",
       "      <td>BACKGROUND: The exact origin of the cause of t...</td>\n",
       "      <td>2003-09-20</td>\n",
       "      <td>Yee Leng Yap ; Xue Wu Zhang ; Antoine Danchin ...</td>\n",
       "      <td>;   ; 75724, Cedex 15 ; Paris ; France</td>\n",
       "      <td>Background\\n\\nSevere Acute Respiratory Syndrom...</td>\n",
       "      <td>0</td>\n",
       "      <td>1</td>\n",
       "      <td>0</td>\n",
       "      <td>...</td>\n",
       "      <td>0</td>\n",
       "      <td>0</td>\n",
       "      <td>1</td>\n",
       "      <td>0</td>\n",
       "      <td>0</td>\n",
       "      <td>0</td>\n",
       "      <td>0</td>\n",
       "      <td>rna,dna</td>\n",
       "      <td>France</td>\n",
       "      <td>France</td>\n",
       "    </tr>\n",
       "    <tr>\n",
       "      <th>4</th>\n",
       "      <td>c63c4d58d170136b8d3b5a66424b5ac3f73a92d9</td>\n",
       "      <td>Viral Discovery and Sequence Recovery Using DN...</td>\n",
       "      <td>Because of the constant threat posed by emergi...</td>\n",
       "      <td>2003-11-17</td>\n",
       "      <td>David Wang (University of California San Franc...</td>\n",
       "      <td>San Francisco ; California ; United States of ...</td>\n",
       "      <td>Introduction\\n\\nOver the past two decades tech...</td>\n",
       "      <td>0</td>\n",
       "      <td>1</td>\n",
       "      <td>0</td>\n",
       "      <td>...</td>\n",
       "      <td>0</td>\n",
       "      <td>0</td>\n",
       "      <td>1</td>\n",
       "      <td>0</td>\n",
       "      <td>0</td>\n",
       "      <td>0</td>\n",
       "      <td>0</td>\n",
       "      <td>dna</td>\n",
       "      <td>United States</td>\n",
       "      <td>United States</td>\n",
       "    </tr>\n",
       "  </tbody>\n",
       "</table>\n",
       "<p>5 rows × 31 columns</p>\n",
       "</div>"
      ],
      "text/plain": [
       "                                        sha  \\\n",
       "0  0104f6ceccf92ae8567a0102f89cbb976969a774   \n",
       "1  5b68a553a7cbbea13472721cd1ad617d42b40c26   \n",
       "2  3ed670f60a7be2e3e2a991ea8af1fdd5fa5e2b2c   \n",
       "3  59ffca26c9d1f881e4e37e7c5af626d72d858dc4   \n",
       "4  c63c4d58d170136b8d3b5a66424b5ac3f73a92d9   \n",
       "\n",
       "                                               title  \\\n",
       "0  Association of HLA class I with severe acute r...   \n",
       "1   A double epidemic model for the SARS propagation   \n",
       "2  Cloaked similarity between HIV-1 and SARS-CoV ...   \n",
       "3  Relationship of SARS-CoV to other pathogenic R...   \n",
       "4  Viral Discovery and Sequence Recovery Using DN...   \n",
       "\n",
       "                                            abstract publish_time  \\\n",
       "0  BACKGROUND: The human leukocyte antigen (HLA) ...   2003-09-12   \n",
       "1  BACKGROUND: An epidemic of a Severe Acute Resp...   2003-09-10   \n",
       "2  BACKGROUND: Severe acute respiratory syndrome ...   2003-09-21   \n",
       "3  BACKGROUND: The exact origin of the cause of t...   2003-09-20   \n",
       "4  Because of the constant threat posed by emergi...   2003-11-17   \n",
       "\n",
       "                                        affiliations  \\\n",
       "0                                                NaN   \n",
       "1                                                NaN   \n",
       "2                                                NaN   \n",
       "3  Yee Leng Yap ; Xue Wu Zhang ; Antoine Danchin ...   \n",
       "4  David Wang (University of California San Franc...   \n",
       "\n",
       "                                            location  \\\n",
       "0                                                NaN   \n",
       "1                                                NaN   \n",
       "2                                                NaN   \n",
       "3             ;   ; 75724, Cedex 15 ; Paris ; France   \n",
       "4  San Francisco ; California ; United States of ...   \n",
       "\n",
       "                                                text  risk_factor  diagnostic  \\\n",
       "0                                                NaN            0           1   \n",
       "1                                                NaN            1           0   \n",
       "2                                                NaN            0           0   \n",
       "3  Background\\n\\nSevere Acute Respiratory Syndrom...            0           1   \n",
       "4  Introduction\\n\\nOver the past two decades tech...            0           1   \n",
       "\n",
       "   treatment_and_vaccine  ...  imaging_diagnosis  clinical_diagnosis  \\\n",
       "0                      0  ...                  0                   0   \n",
       "1                      0  ...                  0                   0   \n",
       "2                      0  ...                  0                   0   \n",
       "3                      0  ...                  0                   0   \n",
       "4                      0  ...                  0                   0   \n",
       "\n",
       "   genetic_diagnosis  treatment_and_vaccine_common_name  treatment  \\\n",
       "0                  0                                  0          0   \n",
       "1                  0                                  0          0   \n",
       "2                  0                                  0          0   \n",
       "3                  1                                  0          0   \n",
       "4                  1                                  0          0   \n",
       "\n",
       "   outcome_common_name  clinical_outcome  keywords  affiliations_country  \\\n",
       "0                    0                 0     fever                   NaN   \n",
       "1                    0                 0   weather                   NaN   \n",
       "2                    0                 0         0                   NaN   \n",
       "3                    0                 0   rna,dna                France   \n",
       "4                    0                 0       dna         United States   \n",
       "\n",
       "   location_country  \n",
       "0               NaN  \n",
       "1               NaN  \n",
       "2               NaN  \n",
       "3            France  \n",
       "4     United States  \n",
       "\n",
       "[5 rows x 31 columns]"
      ]
     },
     "execution_count": 47,
     "metadata": {},
     "output_type": "execute_result"
    }
   ],
   "source": [
    "df = pd.read_csv('../data/paperclassifier/classified_merged_covid.csv')\n",
    "df.head()"
   ]
  },
  {
   "cell_type": "code",
   "execution_count": 49,
   "metadata": {},
   "outputs": [
    {
     "data": {
      "text/plain": [
       "Index(['sha', 'title', 'abstract', 'publish_time', 'affiliations', 'location',\n",
       "       'text', 'risk_factor', 'diagnostic', 'treatment_and_vaccine', 'outcome',\n",
       "       'risk_factor_common_name', 'gender', 'age', 'disease_comorbidity',\n",
       "       'smoking', 'exercise', 'occupation', 'weather',\n",
       "       'diagnostic_common_name', 'symptom', 'imaging_diagnosis',\n",
       "       'clinical_diagnosis', 'genetic_diagnosis',\n",
       "       'treatment_and_vaccine_common_name', 'treatment', 'outcome_common_name',\n",
       "       'clinical_outcome', 'keywords', 'affiliations_country',\n",
       "       'location_country'],\n",
       "      dtype='object')"
      ]
     },
     "execution_count": 49,
     "metadata": {},
     "output_type": "execute_result"
    }
   ],
   "source": [
    "df.columns"
   ]
  },
  {
   "cell_type": "code",
   "execution_count": 54,
   "metadata": {},
   "outputs": [],
   "source": [
    "# refer to the interest.yaml file and identify which entities we are interest to know about the\n",
    "# relationship with covid\n",
    "classes = {'risk_factor': ['smoking', 'smoke', 'tobacco', 'exercise','exercising', 'workout'],\n",
    "           'diagnostic', \n",
    "           'treatment_and_vaccine', \n",
    "           'outcome'}"
   ]
  },
  {
   "cell_type": "code",
   "execution_count": 60,
   "metadata": {},
   "outputs": [
    {
     "data": {
      "text/plain": [
       "'BACKGROUND: The human leukocyte antigen (HLA) system is widely used as a strategy in the search for the etiology of infectious diseases and autoimmune disorders. During the Taiwan epidemic of severe acute respiratory syndrome (SARS) many health care workers were infected. In an effort to establish a screening program for high risk personal the distribution of HLA class I and II alleles in case and control groups was examined for the presence of an association to a genetic susceptibly or resistance to SARS coronavirus infection. METHODS: HLA-class I and II allele typing by PCR-SSOP was performed on 37 cases of probable SARS 28 fever patients excluded later as probable SARS and 101 non-infected health care workers who were exposed or possibly exposed to SARS coronavirus. An additional control set of 190 normal healthy unrelated Taiwanese was also used in the analysis. RESULTS: Woolf and Haldane Odds ratio (OR) and corrected P-value (Pc) obtained from two tails Fisher exact test were used to show susceptibility of HLA class I or class II alleles with coronavirus infection. At first when analyzing infected SARS patients and high risk health care workers groups HLA-B*4601 (OR = 2.08 P = 0.04 Pc = n.s.) and HLA-B*5401 (OR = 5.44 P = 0.02 Pc = n.s.) appeared as the most probable elements that may be favoring SARS coronavirus infection. After selecting only a \"severe cases\" patient group from the infected \"probable SARS\" patient group and comparing them with the high risk health care workers group the severity of SARS was shown to be significantly associated with HLA-B*4601 (P = 0.0008 or Pc = 0.0279). CONCLUSIONS: Densely populated regions with genetically related southern Asian populations appear to be more affected by the spreading of SARS infection. Up until recently no probable SARS patients were reported among Taiwan indigenous peoples who are genetically distinct from the Taiwanese general population have no HLA-B* 4601 and have high frequency of HLA-B* 1301. While increase of HLA-B* 4601 allele frequency was observed in the \"Probable SARS infected\" patient group a further significant increase of the allele was seen in the \"Severe cases\" patient group. These results appeared to indicate association of HLA-B* 4601 with the severity of SARS infection in Asian populations. Independent studies are needed to test these results.'"
      ]
     },
     "execution_count": 60,
     "metadata": {},
     "output_type": "execute_result"
    }
   ],
   "source": [
    "df.iloc[0]['abstract']"
   ]
  },
  {
   "cell_type": "code",
   "execution_count": null,
   "metadata": {},
   "outputs": [],
   "source": []
  },
  {
   "cell_type": "code",
   "execution_count": null,
   "metadata": {},
   "outputs": [],
   "source": []
  },
  {
   "cell_type": "code",
   "execution_count": null,
   "metadata": {},
   "outputs": [],
   "source": []
  },
  {
   "cell_type": "code",
   "execution_count": null,
   "metadata": {},
   "outputs": [],
   "source": []
  },
  {
   "cell_type": "code",
   "execution_count": null,
   "metadata": {},
   "outputs": [],
   "source": []
  },
  {
   "cell_type": "code",
   "execution_count": null,
   "metadata": {},
   "outputs": [],
   "source": []
  },
  {
   "cell_type": "code",
   "execution_count": null,
   "metadata": {},
   "outputs": [],
   "source": []
  },
  {
   "cell_type": "code",
   "execution_count": null,
   "metadata": {},
   "outputs": [],
   "source": []
  }
 ],
 "metadata": {
  "kernelspec": {
   "display_name": "Python [conda env:python37] *",
   "language": "python",
   "name": "conda-env-python37-py"
  },
  "language_info": {
   "codemirror_mode": {
    "name": "ipython",
    "version": 3
   },
   "file_extension": ".py",
   "mimetype": "text/x-python",
   "name": "python",
   "nbconvert_exporter": "python",
   "pygments_lexer": "ipython3",
   "version": "3.7.7"
  }
 },
 "nbformat": 4,
 "nbformat_minor": 4
}
